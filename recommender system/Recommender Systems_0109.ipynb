{
 "cells": [
  {
   "cell_type": "markdown",
   "metadata": {},
   "source": [
    "# Recommender Systems\n",
    "- recomend movie"
   ]
  },
  {
   "cell_type": "markdown",
   "metadata": {},
   "source": [
    "### 1. Loading of data\n",
    "- load matlab file"
   ]
  },
  {
   "cell_type": "code",
   "execution_count": 1,
   "metadata": {},
   "outputs": [],
   "source": [
    "import numpy as np\n",
    "import matplotlib.pyplot as plt\n",
    "from scipy.io import loadmat\n",
    "from tqdm import tqdm_notebook as tqdm"
   ]
  },
  {
   "cell_type": "code",
   "execution_count": 2,
   "metadata": {},
   "outputs": [],
   "source": [
    "mat3 = loadmat(\"ex8_movies.mat\")\n",
    "mat4 = loadmat(\"ex8_movieParams.mat\")"
   ]
  },
  {
   "cell_type": "markdown",
   "metadata": {},
   "source": [
    "- Y : containing ratings (1-5) of 1682 movies on 943 user\n",
    "- R : R(i,j)=1, if user j give rating to movie i\n",
    "- X : num_movies * num_features\n",
    "- Theta : num_users * num_features"
   ]
  },
  {
   "cell_type": "code",
   "execution_count": 3,
   "metadata": {},
   "outputs": [],
   "source": [
    "Y = mat3[\"Y\"] #1682x943, 평점\n",
    "R = mat3[\"R\"] #1682x943, 평점 유무"
   ]
  },
  {
   "cell_type": "code",
   "execution_count": 4,
   "metadata": {},
   "outputs": [],
   "source": [
    "X = mat4[\"X\"] #1682x10, 영화수xfeature\n",
    "Theta = mat4[\"Theta\"] #943x10, 유저수xfeature"
   ]
  },
  {
   "cell_type": "markdown",
   "metadata": {},
   "source": [
    "- compute average rating of first movie(toy story)"
   ]
  },
  {
   "cell_type": "code",
   "execution_count": 5,
   "metadata": {},
   "outputs": [
    {
     "name": "stdout",
     "output_type": "stream",
     "text": [
      "Average rating for movie 1 (Toy Story): 3.8783185840707963 /5\n"
     ]
    }
   ],
   "source": [
    "# 토이스토리에 대한 전체 평점 평균\n",
    "\n",
    "total_score = np.sum(Y[0,:]*R[0,:]) # 평점x평점이 있는 경우, cf. 평점이 없는 경우 0점이므로 Y[0,:]만 더해도 가능\n",
    "mean = total_score / np.sum(R[0,:]) # 평균 = 전체평점 / 평점이 있는 경우의 합\n",
    "print(\"Average rating for movie 1 (Toy Story):\",mean,\"/5\")"
   ]
  },
  {
   "cell_type": "markdown",
   "metadata": {},
   "source": [
    "### 2. Visualise the ratings matrix\n",
    "- imshow() : color data of 2-dimensional array\n",
    "- to below example, we know default value about imshow()\n",
    "- in order, from 0 to 5"
   ]
  },
  {
   "cell_type": "code",
   "execution_count": 6,
   "metadata": {},
   "outputs": [
    {
     "data": {
      "text/plain": [
       "<matplotlib.image.AxesImage at 0x210737f8448>"
      ]
     },
     "execution_count": 6,
     "metadata": {},
     "output_type": "execute_result"
    },
    {
     "data": {
      "image/png": "[encoded data removed]",
      "text/plain": [
       "<Figure size 180x216 with 1 Axes>"
      ]
     },
     "metadata": {
      "needs_background": "light"
     },
     "output_type": "display_data"
    }
   ],
   "source": [
    "# 0~5점 시각화 예시, 왼쪽부터 0점\n",
    "\n",
    "ar = [[0,1,2,3,4,5],[0,1,2,3,4,5],[0,1,2,3,4,5],[0,1,2,3,4,5],[0,1,2,3,4,5]]\n",
    "plt.figure(figsize=(2.5,3))\n",
    "plt.imshow(ar)"
   ]
  },
  {
   "cell_type": "code",
   "execution_count": 7,
   "metadata": {},
   "outputs": [
    {
     "data": {
      "text/plain": [
       "Text(0, 0.5, 'Movies')"
      ]
     },
     "execution_count": 7,
     "metadata": {},
     "output_type": "execute_result"
    },
    {
     "data": {
      "image/png": "[encoded data removed]",
      "text/plain": [
       "<Figure size 360x432 with 1 Axes>"
      ]
     },
     "metadata": {
      "needs_background": "light"
     },
     "output_type": "display_data"
    }
   ],
   "source": [
    "# 영화 평점 시각화\n",
    "# X축 : 유저, Y축 : 영화\n",
    "\n",
    "plt.figure(figsize=(5,6))\n",
    "plt.imshow(Y)\n",
    "plt.xlabel(\"Users\")\n",
    "plt.ylabel(\"Movies\")"
   ]
  },
  {
   "cell_type": "markdown",
   "metadata": {},
   "source": [
    "### 3. Collaborative Filtering Learning Algorithm\n",
    "- make function\n",
    "- compute cost function, gradient\n",
    "- cf. unregularized vs regularized\n",
    "![title](collaborative.png)\n",
    "![title](collaborative2.png)"
   ]
  },
  {
   "cell_type": "code",
   "execution_count": 8,
   "metadata": {},
   "outputs": [],
   "source": [
    "def costfunction(params, Y, R, num_users, num_movies, num_features, Lambda) :\n",
    "    X = params[:num_movies*num_features].reshape(num_movies,num_features)\n",
    "    Theta = params[num_movies*num_features:].reshape(num_users,num_features)\n",
    "    \n",
    "    predictions = X @ Theta.T\n",
    "    err = (predictions - Y)\n",
    "    \n",
    "    J = 1/2 * np.sum((err**2)*R)\n",
    "    \n",
    "    reg_X = Lambda/2 * np.sum(Theta**2)\n",
    "    reg_Theta = Lambda/2 * np.sum(X**2)\n",
    "    reg_J = J + reg_X + reg_Theta\n",
    "    \n",
    "    grad, reg_grad = gradient_descent(params, Y, R, num_users, num_movies, num_features, Lambda)\n",
    "    \n",
    "    return J, grad, reg_J, reg_grad"
   ]
  },
  {
   "cell_type": "code",
   "execution_count": 9,
   "metadata": {},
   "outputs": [],
   "source": [
    "def gradient_descent(params, Y, R, num_users, num_movies, num_features, Lambda) :\n",
    "    X = params[:num_movies*num_features].reshape(num_movies,num_features)\n",
    "    Theta = params[num_movies*num_features:].reshape(num_users,num_features)\n",
    "    \n",
    "    predictions = X @ Theta.T\n",
    "    err = (predictions - Y)\n",
    "    \n",
    "    X_grad = err*R @ Theta\n",
    "    Theta_grad = (err*R).T @ X\n",
    "    grad = np.append(X_grad.flatten(),Theta_grad.flatten())\n",
    "    \n",
    "    reg_X_grad = X_grad + Lambda*X\n",
    "    reg_Theta_grad = Theta_grad + Lambda*Theta\n",
    "    reg_grad = np.append(reg_X_grad.flatten(),reg_Theta_grad.flatten())\n",
    "    \n",
    "    return grad, reg_grad"
   ]
  },
  {
   "cell_type": "markdown",
   "metadata": {},
   "source": [
    "- __make example__\n",
    "- test set\n",
    "- users : 4, movies : 5, features : 3"
   ]
  },
  {
   "cell_type": "code",
   "execution_count": 10,
   "metadata": {},
   "outputs": [],
   "source": [
    "num_users, num_movies, num_features = 4,5,3\n",
    "X_test = X[:num_movies,:num_features]\n",
    "Theta_test= Theta[:num_users,:num_features]\n",
    "Y_test = Y[:num_movies,:num_users]\n",
    "R_test = R[:num_movies,:num_users]\n",
    "params = np.append(X_test.flatten(),Theta_test.flatten())"
   ]
  },
  {
   "cell_type": "markdown",
   "metadata": {},
   "source": [
    "- compare unregularized to regularized with lambda\n",
    "- [:2] : from index 0, total 2\n",
    "- [2:] : from index 2 to last "
   ]
  },
  {
   "cell_type": "code",
   "execution_count": 11,
   "metadata": {},
   "outputs": [
    {
     "name": "stdout",
     "output_type": "stream",
     "text": [
      "Cost at loaded parameters: 22.224603725685675\n",
      "Cost at loaded parameters (lambda = 1.5): 31.34405624427422\n"
     ]
    }
   ],
   "source": [
    "#J, grad = costfunction(params, Y_test, R_test, num_users, num_movies, num_features, 1.5)[:2]\n",
    "#print(\"Cost at loaded parameters:\",J)\n",
    "\n",
    "#J2, grad2 = costfunction(params, Y_test, R_test, num_users, num_movies, num_features, 1.5)[2:]\n",
    "#print(\"Cost at loaded parameters (lambda = 1.5):\",J2)\n",
    "\n",
    "J, grad, J_reg, grad_reg = costfunction(params, Y_test, R_test, num_users, num_movies, num_features, 1.5)\n",
    "\n",
    "print(\"Cost at loaded parameters:\",J)\n",
    "print(\"Cost at loaded parameters (lambda = 1.5):\",J_reg)"
   ]
  },
  {
   "cell_type": "markdown",
   "metadata": {},
   "source": [
    "### 4.Learning movie recommendations\n",
    "- sys : library, direct control of the variables and functions provided by the Python Interpreter.\n",
    "![title](movieList.png)"
   ]
  },
  {
   "cell_type": "code",
   "execution_count": 12,
   "metadata": {},
   "outputs": [
    {
     "data": {
      "text/plain": [
       "['1 Toy Story (1995)',\n",
       " '2 GoldenEye (1995)',\n",
       " '3 Four Rooms (1995)',\n",
       " '4 Get Shorty (1995)',\n",
       " '5 Copycat (1995)']"
      ]
     },
     "execution_count": 12,
     "metadata": {},
     "output_type": "execute_result"
    }
   ],
   "source": [
    "#import sys\n",
    "movieList = open(\"movie_ids.txt\",\"rt\",encoding='UTF8').read().split(\"\\n\")\n",
    "#np.set_printoptions(threshold=sys.maxsize)\n",
    "movieList[:5]"
   ]
  },
  {
   "cell_type": "markdown",
   "metadata": {},
   "source": [
    "- Initialize my ratings\n",
    "- Create own ratings"
   ]
  },
  {
   "cell_type": "code",
   "execution_count": 13,
   "metadata": {},
   "outputs": [
    {
     "name": "stdout",
     "output_type": "stream",
     "text": [
      "- New user ratings -\n",
      "rating of 1 Toy Story (1995) : 4\n",
      "rating of 7 Twelve Monkeys (1995) : 3\n",
      "rating of 12 Usual Suspects, The (1995) : 5\n",
      "rating of 54 Outbreak (1995) : 4\n",
      "rating of 64 Shawshank Redemption, The (1994) : 5\n",
      "rating of 66 While You Were Sleeping (1995) : 3\n",
      "rating of 69 Forrest Gump (1994) : 5\n",
      "rating of 83 Much Ado About Nothing (1993) : 4\n",
      "rating of 98 Silence of the Lambs, The (1991) : 2\n",
      "rating of 226 Die Hard 2 (1990) : 5\n",
      "rating of 355 Sphere (1998) : 5\n"
     ]
    }
   ],
   "source": [
    "my_ratings = np.zeros((1682,1))\n",
    "\n",
    "my_ratings[0] = 4\n",
    "my_ratings[97] = 2\n",
    "my_ratings[6] = 3\n",
    "my_ratings[11]= 5\n",
    "my_ratings[53] = 4\n",
    "my_ratings[63]= 5\n",
    "my_ratings[65]= 3\n",
    "my_ratings[68] = 5\n",
    "my_ratings[82]= 4\n",
    "my_ratings[225] = 5\n",
    "my_ratings[354]= 5\n",
    "\n",
    "print(\"- New user ratings -\")\n",
    "for i in range(len(my_ratings)) :\n",
    "    if my_ratings[i] > 0 :\n",
    "        print(\"rating of\", movieList[i], \":\", int(my_ratings[i]))"
   ]
  },
  {
   "cell_type": "markdown",
   "metadata": {},
   "source": [
    "### 5. Recommendations\n",
    "- use above example\n",
    "- make function\n",
    "- compute mean normalization\n",
    "- (θj)T xi + μi\n",
    "- Ymean : mean vector\n",
    "- Ynorm : Y - Ymean, new Y matrix\n",
    "- m : movie\n",
    "- n : user"
   ]
  },
  {
   "cell_type": "code",
   "execution_count": 14,
   "metadata": {},
   "outputs": [],
   "source": [
    "def normalizeRatings(Y, R) :\n",
    "    m,n = Y.shape[0], Y.shape[1]\n",
    "    Ymean = np.zeros((m,1))\n",
    "    Ynorm = np.zeros((m,n))\n",
    "    \n",
    "    for i in range(m) :\n",
    "        Ymean[i] = np.sum(Y[i,:])/np.count_nonzero(R[i,:])\n",
    "        Ynorm[i,R[i,:]==1] = Ynorm[i,R[i,:]==1] - Ymean[i]\n",
    "        \n",
    "    return Ynorm, Ymean"
   ]
  },
  {
   "cell_type": "markdown",
   "metadata": {},
   "source": [
    "- to minimize costfunction, improve X, Theta\n",
    "- alpha : learning rate"
   ]
  },
  {
   "cell_type": "code",
   "execution_count": 15,
   "metadata": {},
   "outputs": [],
   "source": [
    "def gradientDescent2(initial_parameters,Y,R,num_users,num_movies,num_features,alpha,num_iters,Lambda):\n",
    "    X = initial_parameters[:num_movies*num_features].reshape(num_movies,num_features)\n",
    "    Theta = initial_parameters[num_movies*num_features:].reshape(num_users,num_features)\n",
    "    \n",
    "    J_history =[]\n",
    "    \n",
    "    for i in tqdm(range(num_iters)):\n",
    "        params = np.append(X.flatten(),Theta.flatten())\n",
    "        cost, grad = costfunction(params, Y, R, num_users, num_movies, num_features, Lambda)[2:]\n",
    "\n",
    "        X_grad = grad[:num_movies*num_features].reshape(num_movies,num_features)\n",
    "        Theta_grad = grad[num_movies*num_features:].reshape(num_users,num_features)\n",
    "        X = X - (alpha * X_grad)\n",
    "        Theta = Theta - (alpha * Theta_grad)\n",
    "        J_history.append(cost)\n",
    "    \n",
    "    paramsFinal = np.append(X.flatten(),Theta.flatten())\n",
    "    return paramsFinal , J_history"
   ]
  },
  {
   "cell_type": "code",
   "execution_count": 16,
   "metadata": {},
   "outputs": [],
   "source": [
    "Y = np.hstack((my_ratings,Y))\n",
    "R =np.hstack((my_ratings!=0,R))\n",
    "\n",
    "Ynorm, Ymean = normalizeRatings(Y, R)"
   ]
  },
  {
   "cell_type": "markdown",
   "metadata": {},
   "source": [
    "- X, Theta initialize random\n",
    "- np.random.rand(m,n) : m x n matrix, Standard regular distribution"
   ]
  },
  {
   "cell_type": "code",
   "execution_count": 17,
   "metadata": {},
   "outputs": [
    {
     "data": {
      "application/vnd.jupyter.widget-view+json": {
       "model_id": "461c3fb685c34f45aa29efb046405e3f",
       "version_major": 2,
       "version_minor": 0
      },
      "text/plain": [
       "HBox(children=(IntProgress(value=0, max=400), HTML(value='')))"
      ]
     },
     "metadata": {},
     "output_type": "display_data"
    },
    {
     "name": "stdout",
     "output_type": "stream",
     "text": [
      "\n"
     ]
    }
   ],
   "source": [
    "num_users = Y.shape[1]\n",
    "num_movies = Y.shape[0]\n",
    "num_features = 10\n",
    "\n",
    "X = np.random.randn(num_movies, num_features)\n",
    "Theta = np.random.randn(num_users, num_features)\n",
    "initial_parameters = np.append(X.flatten(),Theta.flatten())\n",
    "Lambda = 10\n",
    "\n",
    "paramsFinal, J_history = gradientDescent2(initial_parameters,Y,R,num_users,num_movies,num_features,0.001,400,Lambda)"
   ]
  },
  {
   "cell_type": "markdown",
   "metadata": {},
   "source": [
    "### 6. Ploting of cost function\n",
    "- iteration : 400"
   ]
  },
  {
   "cell_type": "code",
   "execution_count": 18,
   "metadata": {},
   "outputs": [
    {
     "data": {
      "text/plain": [
       "Text(0.5, 1.0, 'Cost function using Gradient Descent')"
      ]
     },
     "execution_count": 18,
     "metadata": {},
     "output_type": "execute_result"
    },
    {
     "data": {
      "image/png": "[encoded data removed]",
      "text/plain": [
       "<Figure size 432x288 with 1 Axes>"
      ]
     },
     "metadata": {
      "needs_background": "light"
     },
     "output_type": "display_data"
    }
   ],
   "source": [
    "plt.plot(J_history)\n",
    "plt.xlabel(\"Iteration\")\n",
    "plt.ylabel(\"$J(\\Theta)$\")\n",
    "plt.title(\"Cost function using Gradient Descent\")"
   ]
  },
  {
   "cell_type": "markdown",
   "metadata": {},
   "source": [
    "- predict rating"
   ]
  },
  {
   "cell_type": "code",
   "execution_count": 19,
   "metadata": {},
   "outputs": [],
   "source": [
    "X = paramsFinal[:num_movies*num_features].reshape(num_movies,num_features)\n",
    "Theta = paramsFinal[num_movies*num_features:].reshape(num_users,num_features)\n",
    "\n",
    "p = X @ Theta.T\n",
    "my_predictions = p[:,0][:,np.newaxis] + Ymean"
   ]
  },
  {
   "cell_type": "code",
   "execution_count": 20,
   "metadata": {},
   "outputs": [],
   "source": [
    "import pandas as pd\n",
    "\n",
    "df = pd.DataFrame(np.hstack((my_predictions,np.array(movieList)[:,np.newaxis])))\n",
    "df.sort_values(by=[0],ascending=False,inplace=True)\n",
    "df.reset_index(drop=True,inplace=True)"
   ]
  },
  {
   "cell_type": "code",
   "execution_count": 21,
   "metadata": {},
   "outputs": [
    {
     "name": "stdout",
     "output_type": "stream",
     "text": [
      "- Top recommendations for you -\n",
      "Predicting rating of 64 Shawshank Redemption, The (1994) : 8.4\n",
      "Predicting rating of 313 Titanic (1997) : 8.4\n",
      "Predicting rating of 318 Schindler's List (1993) : 8.3\n",
      "Predicting rating of 272 Good Will Hunting (1997) : 8.2\n",
      "Predicting rating of 174 Raiders of the Lost Ark (1981) : 8.2\n",
      "Predicting rating of 12 Usual Suspects, The (1995) : 8.1\n",
      "Predicting rating of 483 Casablanca (1942) : 8.0\n",
      "Predicting rating of 127 Godfather, The (1972) : 8.0\n",
      "Predicting rating of 408 Close Shave, A (1995) : 8.0\n",
      "Predicting rating of 22 Braveheart (1995) : 8.0\n"
     ]
    }
   ],
   "source": [
    "print(\"- Top recommendations for you -\")\n",
    "for i in range(10):\n",
    "    print(\"Predicting rating of\",df[1][i], \":\", round(float(df[0][i]),1))"
   ]
  },
  {
   "cell_type": "markdown",
   "metadata": {},
   "source": [
    "## * *Bonus movie recommendation for you!*"
   ]
  },
  {
   "cell_type": "markdown",
   "metadata": {},
   "source": [
    "1. load data"
   ]
  },
  {
   "cell_type": "code",
   "execution_count": 49,
   "metadata": {},
   "outputs": [],
   "source": [
    "Y = mat3[\"Y\"] #1682x943, 평점\n",
    "R = mat3[\"R\"] #1682x943, 평점 유무\n",
    "X = mat4[\"X\"] #1682x10, 영화수xfeature\n",
    "Theta = mat4[\"Theta\"] #943x10, 유저수xfeature"
   ]
  },
  {
   "cell_type": "markdown",
   "metadata": {},
   "source": [
    "2. function"
   ]
  },
  {
   "cell_type": "markdown",
   "metadata": {},
   "source": [
    "- #1 including new user, Y matrix reconstruction\n",
    "    - Mean Normalization\n",
    "    - Ynorm_new = Y - Ymean_new\n",
    "- #5 평점 예측 정렬\n",
    "    - 예외처리 : 이미 평점을 준 경우, 영화 추천 목록에서 빠지도록"
   ]
  },
  {
   "cell_type": "code",
   "execution_count": 53,
   "metadata": {},
   "outputs": [],
   "source": [
    "def make_recommender(new_ratings, Y, R, X, Theta) :\n",
    "    # 1\n",
    "    Y = np.hstack((my_score,Y)) #1682x1 + 1682x943 = 1682x944\n",
    "    # my_score!=0 : false, true\n",
    "    R = np.hstack((my_score!=0,R)) #1682x1 + 1682X943 = 1682x944\n",
    "\n",
    "    Ynorm_new, Ymean_new = normalizeRatings(Y, R)\n",
    "    \n",
    "    #2\n",
    "    num_users = Y.shape[1] # 944, 943에서 new user가 추가됨\n",
    "    num_movies = Y.shape[0] # 1682\n",
    "    num_features = 10\n",
    "\n",
    "    X = np.random.randn(num_movies, num_features)\n",
    "    Theta = np.random.randn(num_users, num_features)\n",
    "\n",
    "    initial_parameters = np.append(X.flatten(),Theta.flatten())\n",
    "    Lambda = 10\n",
    "\n",
    "    paramsFinal, J_history = gradientDescent2(initial_parameters,Y,R,num_users,num_movies,num_features,0.001,400,Lambda)\n",
    "    \n",
    "    # 3\n",
    "    plt.plot(J_history)\n",
    "    plt.xlabel(\"Iteration\")\n",
    "    plt.ylabel(\"$J(\\Theta)$\")\n",
    "    plt.title(\"Cost function using Gradient Descent\")\n",
    "    \n",
    "    #4\n",
    "    X = paramsFinal[:num_movies*num_features].reshape(num_movies,num_features)\n",
    "    Theta = paramsFinal[num_movies*num_features:].reshape(num_users,num_features)\n",
    "\n",
    "    p = X @ Theta.T\n",
    "    my_predictions = p[:,0][:,np.newaxis] + Ymean\n",
    "    \n",
    "    #5\n",
    "    df = pd.DataFrame(np.hstack((my_predictions,np.array(movieList)[:,np.newaxis])))\n",
    "\n",
    "    # 유저가 이미 평점을 준 경우는 제외하기 위해\n",
    "    # my_score에 점수가 있는 경우, 0으로 값을 바꿔줌\n",
    "    #for i in tqdm(range (1682)) :\n",
    "    for i in range(1682) :\n",
    "        if my_score[i] != 0 :\n",
    "                df[0][i] = \"0\"\n",
    "            \n",
    "    df.sort_values(by=[0],ascending=False,inplace=True)\n",
    "    df.reset_index(drop=True,inplace=True)\n",
    "    \n",
    "    #6\n",
    "    print(\"- Top recommendations for you -\")\n",
    "    for i in range(10):\n",
    "        print(\"Predicting rating of\",df[1][i], \":\", round(float(df[0][i]),1))"
   ]
  },
  {
   "cell_type": "markdown",
   "metadata": {},
   "source": [
    "3. new user's rating"
   ]
  },
  {
   "cell_type": "code",
   "execution_count": 54,
   "metadata": {},
   "outputs": [
    {
     "name": "stdout",
     "output_type": "stream",
     "text": [
      "- New user ratings -\n",
      "rating of 1 Toy Story (1995) : 5\n",
      "rating of 29 Batman Forever (1995) : 1\n",
      "rating of 50 Star Wars (1977) : 2\n",
      "rating of 263 Steel (1997) : 4\n",
      "rating of 272 Good Will Hunting (1997) : 5\n",
      "rating of 313 Titanic (1997) : 5\n",
      "rating of 405 Mission: Impossible (1996) : 3\n",
      "rating of 421 William Shakespeare's Romeo and Juliet (1996) : 4\n",
      "rating of 487 Roman Holiday (1953) : 5\n",
      "rating of 616 Night of the Living Dead (1968) : 1\n"
     ]
    }
   ],
   "source": [
    "my_score = np.zeros((1682,1))\n",
    "\n",
    "# 총 10개 영화\n",
    "\n",
    "my_score[0] = 5 #토이스토리\n",
    "my_score[28] = 1 #Batman Forever\n",
    "my_score[49] = 2 #Star Wars\n",
    "my_score[262]= 4 #Steel\n",
    "my_score[271] = 5 #Good Will Hunting\n",
    "my_score[312]= 5 #Titanic\n",
    "my_score[404]= 3 #Mission: Impossible\n",
    "my_score[420] = 4 #William Shakespeare's Romeo and Juliet\n",
    "my_score[486]= 5 #Roman Holiday\n",
    "my_score[615] = 1 #Night of the Living Dead\n",
    "\n",
    "\n",
    "print(\"- New user ratings -\")\n",
    "for i in range(len(my_score)) :\n",
    "    if my_score[i] > 0 :\n",
    "        print(\"rating of\", movieList[i], \":\", int(my_score[i]))\n",
    "        "
   ]
  },
  {
   "cell_type": "markdown",
   "metadata": {},
   "source": [
    "4. use function, compute movie recommendation"
   ]
  },
  {
   "cell_type": "code",
   "execution_count": 55,
   "metadata": {},
   "outputs": [
    {
     "data": {
      "application/vnd.jupyter.widget-view+json": {
       "model_id": "d44d70cc466f479abc2eac03db28384c",
       "version_major": 2,
       "version_minor": 0
      },
      "text/plain": [
       "HBox(children=(IntProgress(value=0, max=400), HTML(value='')))"
      ]
     },
     "metadata": {},
     "output_type": "display_data"
    },
    {
     "name": "stdout",
     "output_type": "stream",
     "text": [
      "\n",
      "- Top recommendations for you -\n",
      "Predicting rating of 318 Schindler's List (1993) : 8.0\n",
      "Predicting rating of 64 Shawshank Redemption, The (1994) : 7.8\n",
      "Predicting rating of 483 Casablanca (1942) : 7.6\n",
      "Predicting rating of 408 Close Shave, A (1995) : 7.6\n",
      "Predicting rating of 316 As Good As It Gets (1997) : 7.5\n",
      "Predicting rating of 12 Usual Suspects, The (1995) : 7.5\n",
      "Predicting rating of 515 Boot, Das (1981) : 7.4\n",
      "Predicting rating of 22 Braveheart (1995) : 7.4\n",
      "Predicting rating of 169 Wrong Trousers, The (1993) : 7.4\n",
      "Predicting rating of 127 Godfather, The (1972) : 7.3\n"
     ]
    },
    {
     "data": {
      "image/png": "[encoded data removed]",
      "text/plain": [
       "<Figure size 432x288 with 1 Axes>"
      ]
     },
     "metadata": {
      "needs_background": "light"
     },
     "output_type": "display_data"
    }
   ],
   "source": [
    "make_recommender(my_score, Y, R, X, Theta)"
   ]
  },
  {
   "cell_type": "markdown",
   "metadata": {},
   "source": []
  }
 ],
 "metadata": {
  "kernelspec": {
   "display_name": "Python 3",
   "language": "python",
   "name": "python3"
  },
  "language_info": {
   "codemirror_mode": {
    "name": "ipython",
    "version": 3
   },
   "file_extension": ".py",
   "mimetype": "text/x-python",
   "name": "python",
   "nbconvert_exporter": "python",
   "pygments_lexer": "ipython3",
   "version": "3.7.4"
  }
 },
 "nbformat": 4,
 "nbformat_minor": 2
}
